{
 "cells": [
  {
   "cell_type": "code",
   "execution_count": 379,
   "metadata": {},
   "outputs": [],
   "source": [
    "import numpy as np\n",
    "import pandas as pd"
   ]
  },
  {
   "cell_type": "markdown",
   "metadata": {},
   "source": [
    "### List the CSV files we have"
   ]
  },
  {
   "cell_type": "code",
   "execution_count": 380,
   "metadata": {},
   "outputs": [
    {
     "name": "stdout",
     "output_type": "stream",
     "text": [
      "yellow_tripdata_2019-07.csv  yellow_tripdata_2020-07.csv\r\n"
     ]
    }
   ],
   "source": [
    "!ls *.csv"
   ]
  },
  {
   "cell_type": "markdown",
   "metadata": {},
   "source": [
    "### Load multiple csv files and merge them\n",
    "We are using specific columns  \n",
    "We also change the type of specific columns   \n",
    "These two actions reduce the memory usage  "
   ]
  },
  {
   "cell_type": "code",
   "execution_count": 381,
   "metadata": {},
   "outputs": [],
   "source": [
    "import glob\n",
    "\n",
    "all_dfs = []\n",
    "for f in glob.glob('*.csv'):\n",
    "    mdf = pd.read_csv(f,\n",
    "                 usecols=['tpep_pickup_datetime',\n",
    "                           'tpep_dropoff_datetime',\n",
    "                           'passenger_count',\n",
    "                           'tip_amount',\n",
    "                           'congestion_surcharge',\n",
    "                           'total_amount'],\n",
    "                dtype={'trip_distance': np.float16,\n",
    "                       'tip_amount': np.float32,\n",
    "                       'total_amount': np.float16})\n",
    "    all_dfs.append(mdf)\n",
    "df = pd.concat(all_dfs)    "
   ]
  },
  {
   "cell_type": "markdown",
   "metadata": {},
   "source": [
    "### Check for N/A "
   ]
  },
  {
   "cell_type": "code",
   "execution_count": 382,
   "metadata": {},
   "outputs": [
    {
     "data": {
      "text/plain": [
       "tpep_pickup_datetime     False\n",
       "tpep_dropoff_datetime    False\n",
       "passenger_count           True\n",
       "tip_amount               False\n",
       "total_amount             False\n",
       "congestion_surcharge     False\n",
       "dtype: bool"
      ]
     },
     "execution_count": 382,
     "metadata": {},
     "output_type": "execute_result"
    }
   ],
   "source": [
    "df.isna().any()"
   ]
  },
  {
   "cell_type": "markdown",
   "metadata": {},
   "source": [
    "### Replace N/A values by 0"
   ]
  },
  {
   "cell_type": "code",
   "execution_count": 383,
   "metadata": {},
   "outputs": [],
   "source": [
    "df.passenger_count = df.passenger_count.fillna(0)"
   ]
  },
  {
   "cell_type": "markdown",
   "metadata": {},
   "source": [
    "### Or we can drop any rows with N/A in any of the columns"
   ]
  },
  {
   "cell_type": "code",
   "execution_count": 384,
   "metadata": {},
   "outputs": [],
   "source": [
    "df.dropna(inplace=True)"
   ]
  },
  {
   "cell_type": "markdown",
   "metadata": {},
   "source": [
    "### Change Data Types"
   ]
  },
  {
   "cell_type": "code",
   "execution_count": 385,
   "metadata": {},
   "outputs": [],
   "source": [
    "df['passenger_count'] = df['passenger_count'].astype('int8')\n",
    "\n",
    "df['tpep_pickup_datetime'] = pd.to_datetime(df['tpep_pickup_datetime'])\n",
    "df['tpep_dropoff_datetime'] = pd.to_datetime(df['tpep_dropoff_datetime'])"
   ]
  },
  {
   "cell_type": "markdown",
   "metadata": {},
   "source": [
    "### Check the number of rows and columns in the data set"
   ]
  },
  {
   "cell_type": "code",
   "execution_count": 386,
   "metadata": {
    "scrolled": true
   },
   "outputs": [
    {
     "data": {
      "text/plain": [
       "(7110831, 6)"
      ]
     },
     "execution_count": 386,
     "metadata": {},
     "output_type": "execute_result"
    }
   ],
   "source": [
    "df.shape"
   ]
  },
  {
   "cell_type": "markdown",
   "metadata": {},
   "source": [
    "### Show the first rows in the data set"
   ]
  },
  {
   "cell_type": "code",
   "execution_count": 387,
   "metadata": {},
   "outputs": [
    {
     "data": {
      "text/html": [
       "<div>\n",
       "<style scoped>\n",
       "    .dataframe tbody tr th:only-of-type {\n",
       "        vertical-align: middle;\n",
       "    }\n",
       "\n",
       "    .dataframe tbody tr th {\n",
       "        vertical-align: top;\n",
       "    }\n",
       "\n",
       "    .dataframe thead th {\n",
       "        text-align: right;\n",
       "    }\n",
       "</style>\n",
       "<table border=\"1\" class=\"dataframe\">\n",
       "  <thead>\n",
       "    <tr style=\"text-align: right;\">\n",
       "      <th></th>\n",
       "      <th>tpep_pickup_datetime</th>\n",
       "      <th>tpep_dropoff_datetime</th>\n",
       "      <th>passenger_count</th>\n",
       "      <th>tip_amount</th>\n",
       "      <th>total_amount</th>\n",
       "      <th>congestion_surcharge</th>\n",
       "    </tr>\n",
       "  </thead>\n",
       "  <tbody>\n",
       "    <tr>\n",
       "      <th>0</th>\n",
       "      <td>2020-07-01 00:25:32</td>\n",
       "      <td>2020-07-01 00:33:39</td>\n",
       "      <td>1</td>\n",
       "      <td>0.00</td>\n",
       "      <td>9.296875</td>\n",
       "      <td>0.0</td>\n",
       "    </tr>\n",
       "    <tr>\n",
       "      <th>1</th>\n",
       "      <td>2020-07-01 00:03:19</td>\n",
       "      <td>2020-07-01 00:25:43</td>\n",
       "      <td>1</td>\n",
       "      <td>0.00</td>\n",
       "      <td>27.796875</td>\n",
       "      <td>0.0</td>\n",
       "    </tr>\n",
       "    <tr>\n",
       "      <th>2</th>\n",
       "      <td>2020-07-01 00:15:11</td>\n",
       "      <td>2020-07-01 00:29:24</td>\n",
       "      <td>1</td>\n",
       "      <td>0.00</td>\n",
       "      <td>22.296875</td>\n",
       "      <td>2.5</td>\n",
       "    </tr>\n",
       "    <tr>\n",
       "      <th>3</th>\n",
       "      <td>2020-07-01 00:30:49</td>\n",
       "      <td>2020-07-01 00:38:26</td>\n",
       "      <td>1</td>\n",
       "      <td>2.36</td>\n",
       "      <td>14.156250</td>\n",
       "      <td>2.5</td>\n",
       "    </tr>\n",
       "    <tr>\n",
       "      <th>4</th>\n",
       "      <td>2020-07-01 00:31:26</td>\n",
       "      <td>2020-07-01 00:38:02</td>\n",
       "      <td>1</td>\n",
       "      <td>0.00</td>\n",
       "      <td>7.800781</td>\n",
       "      <td>0.0</td>\n",
       "    </tr>\n",
       "  </tbody>\n",
       "</table>\n",
       "</div>"
      ],
      "text/plain": [
       "  tpep_pickup_datetime tpep_dropoff_datetime  passenger_count  tip_amount  \\\n",
       "0  2020-07-01 00:25:32   2020-07-01 00:33:39                1        0.00   \n",
       "1  2020-07-01 00:03:19   2020-07-01 00:25:43                1        0.00   \n",
       "2  2020-07-01 00:15:11   2020-07-01 00:29:24                1        0.00   \n",
       "3  2020-07-01 00:30:49   2020-07-01 00:38:26                1        2.36   \n",
       "4  2020-07-01 00:31:26   2020-07-01 00:38:02                1        0.00   \n",
       "\n",
       "   total_amount  congestion_surcharge  \n",
       "0      9.296875                   0.0  \n",
       "1     27.796875                   0.0  \n",
       "2     22.296875                   2.5  \n",
       "3     14.156250                   2.5  \n",
       "4      7.800781                   0.0  "
      ]
     },
     "execution_count": 387,
     "metadata": {},
     "output_type": "execute_result"
    }
   ],
   "source": [
    "df.head()"
   ]
  },
  {
   "cell_type": "code",
   "execution_count": 388,
   "metadata": {},
   "outputs": [
    {
     "data": {
      "text/plain": [
       "tpep_pickup_datetime     datetime64[ns]\n",
       "tpep_dropoff_datetime    datetime64[ns]\n",
       "passenger_count                    int8\n",
       "tip_amount                      float32\n",
       "total_amount                    float16\n",
       "congestion_surcharge            float64\n",
       "dtype: object"
      ]
     },
     "execution_count": 388,
     "metadata": {},
     "output_type": "execute_result"
    }
   ],
   "source": [
    "df.dtypes"
   ]
  },
  {
   "cell_type": "markdown",
   "metadata": {},
   "source": [
    "### Get info about the data set include real memory consumptuin"
   ]
  },
  {
   "cell_type": "code",
   "execution_count": 389,
   "metadata": {},
   "outputs": [
    {
     "name": "stdout",
     "output_type": "stream",
     "text": [
      "<class 'pandas.core.frame.DataFrame'>\n",
      "Int64Index: 7110831 entries, 0 to 6310418\n",
      "Data columns (total 6 columns):\n",
      " #   Column                 Dtype         \n",
      "---  ------                 -----         \n",
      " 0   tpep_pickup_datetime   datetime64[ns]\n",
      " 1   tpep_dropoff_datetime  datetime64[ns]\n",
      " 2   passenger_count        int8          \n",
      " 3   tip_amount             float32       \n",
      " 4   total_amount           float16       \n",
      " 5   congestion_surcharge   float64       \n",
      "dtypes: datetime64[ns](2), float16(1), float32(1), float64(1), int8(1)\n",
      "memory usage: 264.5 MB\n"
     ]
    }
   ],
   "source": [
    "df.info(memory_usage='deep')"
   ]
  },
  {
   "cell_type": "markdown",
   "metadata": {},
   "source": [
    "### Check for duplicates"
   ]
  },
  {
   "cell_type": "code",
   "execution_count": 390,
   "metadata": {},
   "outputs": [
    {
     "data": {
      "text/plain": [
       "True"
      ]
     },
     "execution_count": 390,
     "metadata": {},
     "output_type": "execute_result"
    }
   ],
   "source": [
    "df.duplicated().any()\n"
   ]
  },
  {
   "cell_type": "markdown",
   "metadata": {},
   "source": [
    "### Show duplicated rows"
   ]
  },
  {
   "cell_type": "code",
   "execution_count": 391,
   "metadata": {
    "scrolled": true
   },
   "outputs": [
    {
     "data": {
      "text/html": [
       "<div>\n",
       "<style scoped>\n",
       "    .dataframe tbody tr th:only-of-type {\n",
       "        vertical-align: middle;\n",
       "    }\n",
       "\n",
       "    .dataframe tbody tr th {\n",
       "        vertical-align: top;\n",
       "    }\n",
       "\n",
       "    .dataframe thead th {\n",
       "        text-align: right;\n",
       "    }\n",
       "</style>\n",
       "<table border=\"1\" class=\"dataframe\">\n",
       "  <thead>\n",
       "    <tr style=\"text-align: right;\">\n",
       "      <th></th>\n",
       "      <th>tpep_pickup_datetime</th>\n",
       "      <th>tpep_dropoff_datetime</th>\n",
       "      <th>passenger_count</th>\n",
       "      <th>tip_amount</th>\n",
       "      <th>total_amount</th>\n",
       "      <th>congestion_surcharge</th>\n",
       "    </tr>\n",
       "  </thead>\n",
       "  <tbody>\n",
       "    <tr>\n",
       "      <th>313314</th>\n",
       "      <td>2020-07-15 15:31:30</td>\n",
       "      <td>2020-07-15 15:34:37</td>\n",
       "      <td>1</td>\n",
       "      <td>0.00</td>\n",
       "      <td>7.300781</td>\n",
       "      <td>2.5</td>\n",
       "    </tr>\n",
       "    <tr>\n",
       "      <th>738035</th>\n",
       "      <td>2020-07-07 15:55:51</td>\n",
       "      <td>2020-07-07 16:07:06</td>\n",
       "      <td>0</td>\n",
       "      <td>1.43</td>\n",
       "      <td>15.726562</td>\n",
       "      <td>2.5</td>\n",
       "    </tr>\n",
       "    <tr>\n",
       "      <th>738314</th>\n",
       "      <td>2020-07-08 20:02:31</td>\n",
       "      <td>2020-07-08 20:07:28</td>\n",
       "      <td>0</td>\n",
       "      <td>1.03</td>\n",
       "      <td>11.328125</td>\n",
       "      <td>2.5</td>\n",
       "    </tr>\n",
       "    <tr>\n",
       "      <th>738526</th>\n",
       "      <td>2020-07-09 23:33:23</td>\n",
       "      <td>2020-07-09 23:54:44</td>\n",
       "      <td>0</td>\n",
       "      <td>6.96</td>\n",
       "      <td>41.750000</td>\n",
       "      <td>0.0</td>\n",
       "    </tr>\n",
       "    <tr>\n",
       "      <th>739194</th>\n",
       "      <td>2020-07-19 14:50:54</td>\n",
       "      <td>2020-07-19 14:55:20</td>\n",
       "      <td>0</td>\n",
       "      <td>1.96</td>\n",
       "      <td>11.757812</td>\n",
       "      <td>2.5</td>\n",
       "    </tr>\n",
       "    <tr>\n",
       "      <th>...</th>\n",
       "      <td>...</td>\n",
       "      <td>...</td>\n",
       "      <td>...</td>\n",
       "      <td>...</td>\n",
       "      <td>...</td>\n",
       "      <td>...</td>\n",
       "    </tr>\n",
       "    <tr>\n",
       "      <th>6161453</th>\n",
       "      <td>2019-07-31 14:43:36</td>\n",
       "      <td>2019-07-31 14:54:41</td>\n",
       "      <td>1</td>\n",
       "      <td>2.36</td>\n",
       "      <td>14.156250</td>\n",
       "      <td>2.5</td>\n",
       "    </tr>\n",
       "    <tr>\n",
       "      <th>6195203</th>\n",
       "      <td>2019-07-31 17:06:27</td>\n",
       "      <td>2019-07-31 17:23:26</td>\n",
       "      <td>1</td>\n",
       "      <td>0.00</td>\n",
       "      <td>15.796875</td>\n",
       "      <td>2.5</td>\n",
       "    </tr>\n",
       "    <tr>\n",
       "      <th>6223515</th>\n",
       "      <td>2019-07-31 19:06:44</td>\n",
       "      <td>2019-07-31 19:26:33</td>\n",
       "      <td>1</td>\n",
       "      <td>3.46</td>\n",
       "      <td>20.765625</td>\n",
       "      <td>2.5</td>\n",
       "    </tr>\n",
       "    <tr>\n",
       "      <th>6252188</th>\n",
       "      <td>2019-07-31 21:10:00</td>\n",
       "      <td>2019-07-31 21:19:26</td>\n",
       "      <td>1</td>\n",
       "      <td>0.00</td>\n",
       "      <td>11.796875</td>\n",
       "      <td>2.5</td>\n",
       "    </tr>\n",
       "    <tr>\n",
       "      <th>6302658</th>\n",
       "      <td>2019-07-24 17:52:00</td>\n",
       "      <td>2019-07-24 18:41:00</td>\n",
       "      <td>0</td>\n",
       "      <td>0.00</td>\n",
       "      <td>51.906250</td>\n",
       "      <td>0.0</td>\n",
       "    </tr>\n",
       "  </tbody>\n",
       "</table>\n",
       "<p>489 rows × 6 columns</p>\n",
       "</div>"
      ],
      "text/plain": [
       "        tpep_pickup_datetime tpep_dropoff_datetime  passenger_count  \\\n",
       "313314   2020-07-15 15:31:30   2020-07-15 15:34:37                1   \n",
       "738035   2020-07-07 15:55:51   2020-07-07 16:07:06                0   \n",
       "738314   2020-07-08 20:02:31   2020-07-08 20:07:28                0   \n",
       "738526   2020-07-09 23:33:23   2020-07-09 23:54:44                0   \n",
       "739194   2020-07-19 14:50:54   2020-07-19 14:55:20                0   \n",
       "...                      ...                   ...              ...   \n",
       "6161453  2019-07-31 14:43:36   2019-07-31 14:54:41                1   \n",
       "6195203  2019-07-31 17:06:27   2019-07-31 17:23:26                1   \n",
       "6223515  2019-07-31 19:06:44   2019-07-31 19:26:33                1   \n",
       "6252188  2019-07-31 21:10:00   2019-07-31 21:19:26                1   \n",
       "6302658  2019-07-24 17:52:00   2019-07-24 18:41:00                0   \n",
       "\n",
       "         tip_amount  total_amount  congestion_surcharge  \n",
       "313314         0.00      7.300781                   2.5  \n",
       "738035         1.43     15.726562                   2.5  \n",
       "738314         1.03     11.328125                   2.5  \n",
       "738526         6.96     41.750000                   0.0  \n",
       "739194         1.96     11.757812                   2.5  \n",
       "...             ...           ...                   ...  \n",
       "6161453        2.36     14.156250                   2.5  \n",
       "6195203        0.00     15.796875                   2.5  \n",
       "6223515        3.46     20.765625                   2.5  \n",
       "6252188        0.00     11.796875                   2.5  \n",
       "6302658        0.00     51.906250                   0.0  \n",
       "\n",
       "[489 rows x 6 columns]"
      ]
     },
     "execution_count": 391,
     "metadata": {},
     "output_type": "execute_result"
    }
   ],
   "source": [
    "df[df.duplicated()]\n"
   ]
  },
  {
   "cell_type": "markdown",
   "metadata": {},
   "source": [
    "### Drop duplicates"
   ]
  },
  {
   "cell_type": "code",
   "execution_count": 392,
   "metadata": {},
   "outputs": [],
   "source": [
    "df.drop_duplicates(inplace=True)"
   ]
  },
  {
   "cell_type": "code",
   "execution_count": 393,
   "metadata": {
    "scrolled": true
   },
   "outputs": [
    {
     "data": {
      "text/plain": [
       "(7110342, 6)"
      ]
     },
     "execution_count": 393,
     "metadata": {},
     "output_type": "execute_result"
    }
   ],
   "source": [
    "df.shape"
   ]
  },
  {
   "cell_type": "markdown",
   "metadata": {},
   "source": [
    "### Add a Year column based on the pickup date\n",
    "\n"
   ]
  },
  {
   "cell_type": "code",
   "execution_count": 394,
   "metadata": {},
   "outputs": [],
   "source": [
    "df['year'] = df['tpep_pickup_datetime'].dt.year"
   ]
  },
  {
   "cell_type": "code",
   "execution_count": 395,
   "metadata": {},
   "outputs": [
    {
     "data": {
      "text/plain": [
       "2019    6310252\n",
       "2020     800034\n",
       "2009         33\n",
       "2008         13\n",
       "2002          9\n",
       "2010          1\n",
       "Name: year, dtype: int64"
      ]
     },
     "execution_count": 395,
     "metadata": {},
     "output_type": "execute_result"
    }
   ],
   "source": [
    "df['year'].value_counts()"
   ]
  },
  {
   "cell_type": "markdown",
   "metadata": {},
   "source": [
    "### Finding the maximum tip"
   ]
  },
  {
   "cell_type": "code",
   "execution_count": 396,
   "metadata": {},
   "outputs": [
    {
     "data": {
      "text/plain": [
       "1001.0"
      ]
     },
     "execution_count": 396,
     "metadata": {},
     "output_type": "execute_result"
    }
   ],
   "source": [
    "df.tip_amount.max()"
   ]
  },
  {
   "cell_type": "markdown",
   "metadata": {},
   "source": [
    "### Finding rows with maximum tip"
   ]
  },
  {
   "cell_type": "code",
   "execution_count": 397,
   "metadata": {
    "scrolled": true
   },
   "outputs": [
    {
     "data": {
      "text/html": [
       "<div>\n",
       "<style scoped>\n",
       "    .dataframe tbody tr th:only-of-type {\n",
       "        vertical-align: middle;\n",
       "    }\n",
       "\n",
       "    .dataframe tbody tr th {\n",
       "        vertical-align: top;\n",
       "    }\n",
       "\n",
       "    .dataframe thead th {\n",
       "        text-align: right;\n",
       "    }\n",
       "</style>\n",
       "<table border=\"1\" class=\"dataframe\">\n",
       "  <thead>\n",
       "    <tr style=\"text-align: right;\">\n",
       "      <th></th>\n",
       "      <th>tpep_pickup_datetime</th>\n",
       "      <th>tpep_dropoff_datetime</th>\n",
       "      <th>passenger_count</th>\n",
       "      <th>tip_amount</th>\n",
       "      <th>total_amount</th>\n",
       "      <th>congestion_surcharge</th>\n",
       "      <th>year</th>\n",
       "    </tr>\n",
       "  </thead>\n",
       "  <tbody>\n",
       "    <tr>\n",
       "      <th>31607</th>\n",
       "      <td>2020-07-02 12:50:12</td>\n",
       "      <td>2020-07-02 12:55:46</td>\n",
       "      <td>1</td>\n",
       "      <td>1001.0</td>\n",
       "      <td>1011.0</td>\n",
       "      <td>2.5</td>\n",
       "      <td>2020</td>\n",
       "    </tr>\n",
       "  </tbody>\n",
       "</table>\n",
       "</div>"
      ],
      "text/plain": [
       "      tpep_pickup_datetime tpep_dropoff_datetime  passenger_count  tip_amount  \\\n",
       "31607  2020-07-02 12:50:12   2020-07-02 12:55:46                1      1001.0   \n",
       "\n",
       "       total_amount  congestion_surcharge  year  \n",
       "31607        1011.0                   2.5  2020  "
      ]
     },
     "execution_count": 397,
     "metadata": {},
     "output_type": "execute_result"
    }
   ],
   "source": [
    "df[df['tip_amount'] == df.tip_amount.max()]"
   ]
  },
  {
   "cell_type": "markdown",
   "metadata": {},
   "source": [
    "### Find if there is any negative Tip value"
   ]
  },
  {
   "cell_type": "code",
   "execution_count": 398,
   "metadata": {},
   "outputs": [
    {
     "data": {
      "text/plain": [
       "247"
      ]
     },
     "execution_count": 398,
     "metadata": {},
     "output_type": "execute_result"
    }
   ],
   "source": [
    "df.loc[df['tip_amount'] < 0, 'tip_amount'].count()"
   ]
  },
  {
   "cell_type": "markdown",
   "metadata": {},
   "source": [
    "### Get the average Tip "
   ]
  },
  {
   "cell_type": "code",
   "execution_count": 399,
   "metadata": {},
   "outputs": [
    {
     "data": {
      "text/plain": [
       "2.1397335529327393"
      ]
     },
     "execution_count": 399,
     "metadata": {},
     "output_type": "execute_result"
    }
   ],
   "source": [
    "df['tip_amount'].mean()\n"
   ]
  },
  {
   "cell_type": "markdown",
   "metadata": {},
   "source": [
    "### Get the average Tip excluding the negative values"
   ]
  },
  {
   "cell_type": "code",
   "execution_count": 400,
   "metadata": {},
   "outputs": [
    {
     "data": {
      "text/plain": [
       "3.2183868885040283"
      ]
     },
     "execution_count": 400,
     "metadata": {},
     "output_type": "execute_result"
    }
   ],
   "source": [
    "df.loc[df['tip_amount'] > 0, 'tip_amount'].mean()"
   ]
  },
  {
   "cell_type": "markdown",
   "metadata": {},
   "source": [
    "### Show the distribution of tip values"
   ]
  },
  {
   "cell_type": "code",
   "execution_count": 401,
   "metadata": {},
   "outputs": [
    {
     "data": {
      "text/plain": [
       "1.000000     372950\n",
       "2.000000     259211\n",
       "1.500000      89907\n",
       "2.060000      86228\n",
       "1.960000      83957\n",
       "              ...  \n",
       "38.110001         1\n",
       "32.040001         1\n",
       "49.910000         1\n",
       "46.860001         1\n",
       "27.490000         1\n",
       "Name: tip_amount, Length: 3740, dtype: int64"
      ]
     },
     "execution_count": 401,
     "metadata": {},
     "output_type": "execute_result"
    }
   ],
   "source": [
    "df.loc[df['tip_amount'] > 0, 'tip_amount'].value_counts()"
   ]
  },
  {
   "cell_type": "code",
   "execution_count": 402,
   "metadata": {},
   "outputs": [
    {
     "data": {
      "text/plain": [
       "1.000000     372950\n",
       "2.000000     259211\n",
       "1.500000      89907\n",
       "2.060000      86228\n",
       "1.960000      83957\n",
       "              ...  \n",
       "38.110001         1\n",
       "32.040001         1\n",
       "49.910000         1\n",
       "46.860001         1\n",
       "27.490000         1\n",
       "Name: tip_amount, Length: 3740, dtype: int64"
      ]
     },
     "execution_count": 402,
     "metadata": {},
     "output_type": "execute_result"
    }
   ],
   "source": [
    "df.loc[df['tip_amount'] > 0, 'tip_amount'].value_counts()"
   ]
  },
  {
   "cell_type": "markdown",
   "metadata": {},
   "source": [
    "### Show tips distribution in percentage"
   ]
  },
  {
   "cell_type": "code",
   "execution_count": 407,
   "metadata": {},
   "outputs": [
    {
     "data": {
      "text/plain": [
       "(2, 5]         57.867760\n",
       "(1, 2]         28.510600\n",
       "(5, 10]         9.694354\n",
       "(10, 20]        3.751972\n",
       "(20, 50]        0.158213\n",
       "(50, 100]       0.014453\n",
       "(100, 500]      0.002647\n",
       "(500, 1000]     0.000000\n",
       "Name: tip_amount, dtype: float64"
      ]
     },
     "execution_count": 407,
     "metadata": {},
     "output_type": "execute_result"
    }
   ],
   "source": [
    "pd.cut(df['tip_amount'], [1,2,5,10,20,50,100,500,1000], ordered=True).value_counts(normalize=True)*100"
   ]
  },
  {
   "cell_type": "markdown",
   "metadata": {},
   "source": [
    "### Creat a new column for Tip size with 'category' data type"
   ]
  },
  {
   "cell_type": "code",
   "execution_count": 410,
   "metadata": {},
   "outputs": [],
   "source": [
    "df['tip_size'] = df.apply(lambda row: 'Big' if row.tip_amount > 5 else 'Small',axis=1)\n",
    "df['tip_size'] = df['tip_size'].astype('category')\n"
   ]
  },
  {
   "cell_type": "code",
   "execution_count": 411,
   "metadata": {},
   "outputs": [
    {
     "name": "stdout",
     "output_type": "stream",
     "text": [
      "<class 'pandas.core.frame.DataFrame'>\n",
      "Int64Index: 7110342 entries, 0 to 6310418\n",
      "Data columns (total 8 columns):\n",
      " #   Column                 Dtype         \n",
      "---  ------                 -----         \n",
      " 0   tpep_pickup_datetime   datetime64[ns]\n",
      " 1   tpep_dropoff_datetime  datetime64[ns]\n",
      " 2   passenger_count        int8          \n",
      " 3   tip_amount             float32       \n",
      " 4   total_amount           float16       \n",
      " 5   congestion_surcharge   float64       \n",
      " 6   year                   int64         \n",
      " 7   tip_size               category      \n",
      "dtypes: category(1), datetime64[ns](2), float16(1), float32(1), float64(1), int64(1), int8(1)\n",
      "memory usage: 325.5 MB\n"
     ]
    }
   ],
   "source": [
    "df.info()"
   ]
  },
  {
   "cell_type": "markdown",
   "metadata": {},
   "source": [
    "### Big and small tips count"
   ]
  },
  {
   "cell_type": "code",
   "execution_count": 412,
   "metadata": {},
   "outputs": [
    {
     "data": {
      "text/plain": [
       "Small    6528843\n",
       "Big       581499\n",
       "Name: tip_size, dtype: int64"
      ]
     },
     "execution_count": 412,
     "metadata": {},
     "output_type": "execute_result"
    }
   ],
   "source": [
    "df['tip_size'].value_counts()"
   ]
  },
  {
   "cell_type": "markdown",
   "metadata": {},
   "source": [
    "### Distribtion of Big and small Tips"
   ]
  },
  {
   "cell_type": "code",
   "execution_count": 413,
   "metadata": {},
   "outputs": [
    {
     "data": {
      "text/plain": [
       "Small    0.918218\n",
       "Big      0.081782\n",
       "Name: tip_size, dtype: float64"
      ]
     },
     "execution_count": 413,
     "metadata": {},
     "output_type": "execute_result"
    }
   ],
   "source": [
    "df['tip_size'].value_counts(normalize=True)"
   ]
  },
  {
   "cell_type": "code",
   "execution_count": 414,
   "metadata": {},
   "outputs": [
    {
     "data": {
      "text/plain": [
       "<AxesSubplot:xlabel='tip_amount', ylabel='Count'>"
      ]
     },
     "execution_count": 414,
     "metadata": {},
     "output_type": "execute_result"
    },
    {
     "data": {
      "image/png": "[encoded data removed]",
      "text/plain": [
       "<Figure size 432x288 with 1 Axes>"
      ]
     },
     "metadata": {},
     "output_type": "display_data"
    }
   ],
   "source": [
    "import seaborn as sns\n",
    "\n",
    "sns.histplot(df.tip_amount, bins=[0,2,5,20])"
   ]
  }
 ],
 "metadata": {
  "kernelspec": {
   "display_name": "Python 3",
   "language": "python",
   "name": "python3"
  },
  "language_info": {
   "codemirror_mode": {
    "name": "ipython",
    "version": 3
   },
   "file_extension": ".py",
   "mimetype": "text/x-python",
   "name": "python",
   "nbconvert_exporter": "python",
   "pygments_lexer": "ipython3",
   "version": "3.10.3"
  }
 },
 "nbformat": 4,
 "nbformat_minor": 4
}
